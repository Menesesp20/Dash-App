{
 "cells": [
  {
   "cell_type": "code",
   "execution_count": 1,
   "metadata": {},
   "outputs": [],
   "source": [
    "import pandas as pd\n",
    "import numpy as np\n",
    "import json\n",
    "import sys\n",
    "import random\n",
    "\n",
    "import ast\n",
    "\n",
    "import pymysql\n",
    "\n",
    "from datetime import date\n",
    "\n",
    "import matplotlib.pyplot as plt\n",
    "import matplotlib.gridspec as gridspec\n",
    "\n",
    "import matplotlib.patheffects as path_effects\n",
    "from matplotlib.colors import LinearSegmentedColormap\n",
    "from matplotlib.colors import to_rgba\n",
    "from matplotlib import cm\n",
    "from matplotlib import colorbar\n",
    "import matplotlib as mpl\n",
    "import matplotlib.patches as patches\n",
    "import matplotlib.path as mpath\n",
    "import matplotlib.lines as mlines\n",
    "import matplotlib.patches as mpatches\n",
    "from matplotlib.patches import RegularPolygon\n",
    "from matplotlib.patches import ArrowStyle\n",
    "from matplotlib.patches import Circle\n",
    "\n",
    "from matplotlib.colors import Normalize\n",
    "import matplotlib.patheffects as pe\n",
    "\n",
    "import plotly.express as px\n",
    "import seaborn as sns\n",
    "\n",
    "import warnings\n",
    "warnings.filterwarnings(\"ignore\")\n",
    "\n",
    "from mplsoccer import VerticalPitch, Pitch, Radar, FontManager, grid, PyPizza\n",
    "\n",
    "import scipy.stats as stats\n",
    "\n",
    "from highlight_text import  ax_text, fig_text\n",
    "\n",
    "from soccerplots.utils import add_image\n",
    "\n",
    "from sklearn.cluster import KMeans\n",
    "\n",
    "from sklearn.preprocessing import StandardScaler\n",
    "from sklearn.decomposition import PCA\n",
    "from sklearn import preprocessing\n",
    "\n",
    "import abs_import\n",
    "\n",
    "import statistics\n",
    "import math\n",
    "import ipywidgets as widgets\n",
    "\n",
    "from IPython.display import display, Math, Latex\n",
    "\n",
    "import warnings\n",
    "\n",
    "plt.rcParams[\"figure.dpi\"] = 300\n",
    "\n",
    "from matplotlib import font_manager\n",
    "\n",
    "from app import *\n",
    "\n",
    "sys.path.append('Functions/visualization')\n",
    "\n",
    "from Functions.utils import read_json\n",
    "from Functions.visualization.passing_network import draw_pitch, draw_pass_map\n",
    "\n",
    "clubColors = {'Brazil' : ['#fadb04', '#1c3474'],\n",
    "              'Portugal' : ['#e1231b', '#004595'],\n",
    "              'Argentina' : ['#52a9dc', '#dbe4ea'],\n",
    "              'Saudi Arabia' : ['#145735', '#dbe4ea'],\n",
    "              'Ghana' : ['#145735', '#dbe4ea'],\n",
    "              'Serbia' : ['#FF0000', '#E8E8E8'],\n",
    "              'Spain' : ['#FF0000', '#E8E8E8'],\n",
    "              'Germany' : ['#aa9e56', '#FF0000'],\n",
    "              'France' : ['#202960', '#d10827'],\n",
    "              'Poland' : ['#d10827', '#E8E8E8'],\n",
    "              'Morocco' : ['#db221b', '#044c34'],\n",
    "              'Croatia' : ['#e71c23', '#3f85c5'],\n",
    "              'Netherlands' : ['#f46c24', '#dcd9d7'],\n",
    "              'Senegal' : ['#34964a', '#eedf36'],\n",
    "              'Denmark' : ['#cb1617', '#E8E8E8'],\n",
    "              'Iran' : ['#269b44', '#dd1212'],\n",
    "              'Belgium' : ['#ff0000', '#e30613'],\n",
    "              'USA' : ['#ff0000', '#202960'],\n",
    "              'Switzerland' : ['#ff0000', '#e8e8e8'],\n",
    "              'Australia' : ['#202960', '#e30613'],\n",
    "              'Wales' : ['#ff0000', '#e8e8e8'],\n",
    "              'Mexico' : ['#00a94f', '#ff0000'],\n",
    "              'Uruguay' : ['#52a9dc', '#e8e8e8'],\n",
    "              'Canada' : ['#ff0000', '#ff0000'],\n",
    "              'Costa Rica' : ['#ff0000', '#202960']}\n",
    "\n",
    "df = pd.read_csv('C:/Users/menes/Documents/Data Hub/Database/optaMundial.csv')\n",
    "df[\"matchTimestamp\"] = 60 * df[\"minute\"] + df[\"second\"]\n",
    "df[\"matchTimestamp\"] = pd.to_timedelta(df[\"matchTimestamp\"], unit='s')\n",
    "df.drop_duplicates(subset=['name', 'matchTimestamp', 'team', 'typedisplayName', 'x', 'y'], keep='first', inplace=True)\n",
    "df.sort_values(by=['Match_ID', 'matchTimestamp'], inplace=True, ascending=[True, True])\n",
    "df.reset_index(drop=True, inplace=True)"
   ]
  },
  {
   "cell_type": "code",
   "execution_count": 14,
   "metadata": {},
   "outputs": [
    {
     "data": {
      "application/vnd.plotly.v1+json": {
       "config": {
        "plotlyServerURL": "https://plot.ly"
       },
       "data": [
        {
         "marker": {
          "color": "red",
          "size": 15
         },
         "mode": "markers",
         "name": "Salah",
         "type": "scatter",
         "x": [
          0,
          110,
          112,
          114,
          115,
          130
         ],
         "y": [
          0,
          65,
          55,
          49,
          53,
          90
         ]
        }
       ],
       "layout": {
        "autosize": false,
        "height": 783,
        "images": [
         {
          "layer": "below",
          "opacity": 0.9,
          "sizex": 135,
          "sizey": 95,
          "sizing": "stretch",
          "source": "data:image/png;base64,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",
          "x": 0,
          "xref": "x",
          "y": 0,
          "yref": "y"
         }
        ],
        "template": {
         "data": {
          "bar": [
           {
            "error_x": {
             "color": "#2a3f5f"
            },
            "error_y": {
             "color": "#2a3f5f"
            },
            "marker": {
             "line": {
              "color": "white",
              "width": 0.5
             },
             "pattern": {
              "fillmode": "overlay",
              "size": 10,
              "solidity": 0.2
             }
            },
            "type": "bar"
           }
          ],
          "barpolar": [
           {
            "marker": {
             "line": {
              "color": "white",
              "width": 0.5
             },
             "pattern": {
              "fillmode": "overlay",
              "size": 10,
              "solidity": 0.2
             }
            },
            "type": "barpolar"
           }
          ],
          "carpet": [
           {
            "aaxis": {
             "endlinecolor": "#2a3f5f",
             "gridcolor": "#C8D4E3",
             "linecolor": "#C8D4E3",
             "minorgridcolor": "#C8D4E3",
             "startlinecolor": "#2a3f5f"
            },
            "baxis": {
             "endlinecolor": "#2a3f5f",
             "gridcolor": "#C8D4E3",
             "linecolor": "#C8D4E3",
             "minorgridcolor": "#C8D4E3",
             "startlinecolor": "#2a3f5f"
            },
            "type": "carpet"
           }
          ],
          "choropleth": [
           {
            "colorbar": {
             "outlinewidth": 0,
             "ticks": ""
            },
            "type": "choropleth"
           }
          ],
          "contour": [
           {
            "colorbar": {
             "outlinewidth": 0,
             "ticks": ""
            },
            "colorscale": [
             [
              0,
              "#0d0887"
             ],
             [
              0.1111111111111111,
              "#46039f"
             ],
             [
              0.2222222222222222,
              "#7201a8"
             ],
             [
              0.3333333333333333,
              "#9c179e"
             ],
             [
              0.4444444444444444,
              "#bd3786"
             ],
             [
              0.5555555555555556,
              "#d8576b"
             ],
             [
              0.6666666666666666,
              "#ed7953"
             ],
             [
              0.7777777777777778,
              "#fb9f3a"
             ],
             [
              0.8888888888888888,
              "#fdca26"
             ],
             [
              1,
              "#f0f921"
             ]
            ],
            "type": "contour"
           }
          ],
          "contourcarpet": [
           {
            "colorbar": {
             "outlinewidth": 0,
             "ticks": ""
            },
            "type": "contourcarpet"
           }
          ],
          "heatmap": [
           {
            "colorbar": {
             "outlinewidth": 0,
             "ticks": ""
            },
            "colorscale": [
             [
              0,
              "#0d0887"
             ],
             [
              0.1111111111111111,
              "#46039f"
             ],
             [
              0.2222222222222222,
              "#7201a8"
             ],
             [
              0.3333333333333333,
              "#9c179e"
             ],
             [
              0.4444444444444444,
              "#bd3786"
             ],
             [
              0.5555555555555556,
              "#d8576b"
             ],
             [
              0.6666666666666666,
              "#ed7953"
             ],
             [
              0.7777777777777778,
              "#fb9f3a"
             ],
             [
              0.8888888888888888,
              "#fdca26"
             ],
             [
              1,
              "#f0f921"
             ]
            ],
            "type": "heatmap"
           }
          ],
          "heatmapgl": [
           {
            "colorbar": {
             "outlinewidth": 0,
             "ticks": ""
            },
            "colorscale": [
             [
              0,
              "#0d0887"
             ],
             [
              0.1111111111111111,
              "#46039f"
             ],
             [
              0.2222222222222222,
              "#7201a8"
             ],
             [
              0.3333333333333333,
              "#9c179e"
             ],
             [
              0.4444444444444444,
              "#bd3786"
             ],
             [
              0.5555555555555556,
              "#d8576b"
             ],
             [
              0.6666666666666666,
              "#ed7953"
             ],
             [
              0.7777777777777778,
              "#fb9f3a"
             ],
             [
              0.8888888888888888,
              "#fdca26"
             ],
             [
              1,
              "#f0f921"
             ]
            ],
            "type": "heatmapgl"
           }
          ],
          "histogram": [
           {
            "marker": {
             "pattern": {
              "fillmode": "overlay",
              "size": 10,
              "solidity": 0.2
             }
            },
            "type": "histogram"
           }
          ],
          "histogram2d": [
           {
            "colorbar": {
             "outlinewidth": 0,
             "ticks": ""
            },
            "colorscale": [
             [
              0,
              "#0d0887"
             ],
             [
              0.1111111111111111,
              "#46039f"
             ],
             [
              0.2222222222222222,
              "#7201a8"
             ],
             [
              0.3333333333333333,
              "#9c179e"
             ],
             [
              0.4444444444444444,
              "#bd3786"
             ],
             [
              0.5555555555555556,
              "#d8576b"
             ],
             [
              0.6666666666666666,
              "#ed7953"
             ],
             [
              0.7777777777777778,
              "#fb9f3a"
             ],
             [
              0.8888888888888888,
              "#fdca26"
             ],
             [
              1,
              "#f0f921"
             ]
            ],
            "type": "histogram2d"
           }
          ],
          "histogram2dcontour": [
           {
            "colorbar": {
             "outlinewidth": 0,
             "ticks": ""
            },
            "colorscale": [
             [
              0,
              "#0d0887"
             ],
             [
              0.1111111111111111,
              "#46039f"
             ],
             [
              0.2222222222222222,
              "#7201a8"
             ],
             [
              0.3333333333333333,
              "#9c179e"
             ],
             [
              0.4444444444444444,
              "#bd3786"
             ],
             [
              0.5555555555555556,
              "#d8576b"
             ],
             [
              0.6666666666666666,
              "#ed7953"
             ],
             [
              0.7777777777777778,
              "#fb9f3a"
             ],
             [
              0.8888888888888888,
              "#fdca26"
             ],
             [
              1,
              "#f0f921"
             ]
            ],
            "type": "histogram2dcontour"
           }
          ],
          "mesh3d": [
           {
            "colorbar": {
             "outlinewidth": 0,
             "ticks": ""
            },
            "type": "mesh3d"
           }
          ],
          "parcoords": [
           {
            "line": {
             "colorbar": {
              "outlinewidth": 0,
              "ticks": ""
             }
            },
            "type": "parcoords"
           }
          ],
          "pie": [
           {
            "automargin": true,
            "type": "pie"
           }
          ],
          "scatter": [
           {
            "marker": {
             "colorbar": {
              "outlinewidth": 0,
              "ticks": ""
             }
            },
            "type": "scatter"
           }
          ],
          "scatter3d": [
           {
            "line": {
             "colorbar": {
              "outlinewidth": 0,
              "ticks": ""
             }
            },
            "marker": {
             "colorbar": {
              "outlinewidth": 0,
              "ticks": ""
             }
            },
            "type": "scatter3d"
           }
          ],
          "scattercarpet": [
           {
            "marker": {
             "colorbar": {
              "outlinewidth": 0,
              "ticks": ""
             }
            },
            "type": "scattercarpet"
           }
          ],
          "scattergeo": [
           {
            "marker": {
             "colorbar": {
              "outlinewidth": 0,
              "ticks": ""
             }
            },
            "type": "scattergeo"
           }
          ],
          "scattergl": [
           {
            "marker": {
             "colorbar": {
              "outlinewidth": 0,
              "ticks": ""
             }
            },
            "type": "scattergl"
           }
          ],
          "scattermapbox": [
           {
            "marker": {
             "colorbar": {
              "outlinewidth": 0,
              "ticks": ""
             }
            },
            "type": "scattermapbox"
           }
          ],
          "scatterpolar": [
           {
            "marker": {
             "colorbar": {
              "outlinewidth": 0,
              "ticks": ""
             }
            },
            "type": "scatterpolar"
           }
          ],
          "scatterpolargl": [
           {
            "marker": {
             "colorbar": {
              "outlinewidth": 0,
              "ticks": ""
             }
            },
            "type": "scatterpolargl"
           }
          ],
          "scatterternary": [
           {
            "marker": {
             "colorbar": {
              "outlinewidth": 0,
              "ticks": ""
             }
            },
            "type": "scatterternary"
           }
          ],
          "surface": [
           {
            "colorbar": {
             "outlinewidth": 0,
             "ticks": ""
            },
            "colorscale": [
             [
              0,
              "#0d0887"
             ],
             [
              0.1111111111111111,
              "#46039f"
             ],
             [
              0.2222222222222222,
              "#7201a8"
             ],
             [
              0.3333333333333333,
              "#9c179e"
             ],
             [
              0.4444444444444444,
              "#bd3786"
             ],
             [
              0.5555555555555556,
              "#d8576b"
             ],
             [
              0.6666666666666666,
              "#ed7953"
             ],
             [
              0.7777777777777778,
              "#fb9f3a"
             ],
             [
              0.8888888888888888,
              "#fdca26"
             ],
             [
              1,
              "#f0f921"
             ]
            ],
            "type": "surface"
           }
          ],
          "table": [
           {
            "cells": {
             "fill": {
              "color": "#EBF0F8"
             },
             "line": {
              "color": "white"
             }
            },
            "header": {
             "fill": {
              "color": "#C8D4E3"
             },
             "line": {
              "color": "white"
             }
            },
            "type": "table"
           }
          ]
         },
         "layout": {
          "annotationdefaults": {
           "arrowcolor": "#2a3f5f",
           "arrowhead": 0,
           "arrowwidth": 1
          },
          "autotypenumbers": "strict",
          "coloraxis": {
           "colorbar": {
            "outlinewidth": 0,
            "ticks": ""
           }
          },
          "colorscale": {
           "diverging": [
            [
             0,
             "#8e0152"
            ],
            [
             0.1,
             "#c51b7d"
            ],
            [
             0.2,
             "#de77ae"
            ],
            [
             0.3,
             "#f1b6da"
            ],
            [
             0.4,
             "#fde0ef"
            ],
            [
             0.5,
             "#f7f7f7"
            ],
            [
             0.6,
             "#e6f5d0"
            ],
            [
             0.7,
             "#b8e186"
            ],
            [
             0.8,
             "#7fbc41"
            ],
            [
             0.9,
             "#4d9221"
            ],
            [
             1,
             "#276419"
            ]
           ],
           "sequential": [
            [
             0,
             "#0d0887"
            ],
            [
             0.1111111111111111,
             "#46039f"
            ],
            [
             0.2222222222222222,
             "#7201a8"
            ],
            [
             0.3333333333333333,
             "#9c179e"
            ],
            [
             0.4444444444444444,
             "#bd3786"
            ],
            [
             0.5555555555555556,
             "#d8576b"
            ],
            [
             0.6666666666666666,
             "#ed7953"
            ],
            [
             0.7777777777777778,
             "#fb9f3a"
            ],
            [
             0.8888888888888888,
             "#fdca26"
            ],
            [
             1,
             "#f0f921"
            ]
           ],
           "sequentialminus": [
            [
             0,
             "#0d0887"
            ],
            [
             0.1111111111111111,
             "#46039f"
            ],
            [
             0.2222222222222222,
             "#7201a8"
            ],
            [
             0.3333333333333333,
             "#9c179e"
            ],
            [
             0.4444444444444444,
             "#bd3786"
            ],
            [
             0.5555555555555556,
             "#d8576b"
            ],
            [
             0.6666666666666666,
             "#ed7953"
            ],
            [
             0.7777777777777778,
             "#fb9f3a"
            ],
            [
             0.8888888888888888,
             "#fdca26"
            ],
            [
             1,
             "#f0f921"
            ]
           ]
          },
          "colorway": [
           "#636efa",
           "#EF553B",
           "#00cc96",
           "#ab63fa",
           "#FFA15A",
           "#19d3f3",
           "#FF6692",
           "#B6E880",
           "#FF97FF",
           "#FECB52"
          ],
          "font": {
           "color": "#2a3f5f"
          },
          "geo": {
           "bgcolor": "white",
           "lakecolor": "white",
           "landcolor": "white",
           "showlakes": true,
           "showland": true,
           "subunitcolor": "#C8D4E3"
          },
          "hoverlabel": {
           "align": "left"
          },
          "hovermode": "closest",
          "mapbox": {
           "style": "light"
          },
          "paper_bgcolor": "white",
          "plot_bgcolor": "white",
          "polar": {
           "angularaxis": {
            "gridcolor": "#EBF0F8",
            "linecolor": "#EBF0F8",
            "ticks": ""
           },
           "bgcolor": "white",
           "radialaxis": {
            "gridcolor": "#EBF0F8",
            "linecolor": "#EBF0F8",
            "ticks": ""
           }
          },
          "scene": {
           "xaxis": {
            "backgroundcolor": "white",
            "gridcolor": "#DFE8F3",
            "gridwidth": 2,
            "linecolor": "#EBF0F8",
            "showbackground": true,
            "ticks": "",
            "zerolinecolor": "#EBF0F8"
           },
           "yaxis": {
            "backgroundcolor": "white",
            "gridcolor": "#DFE8F3",
            "gridwidth": 2,
            "linecolor": "#EBF0F8",
            "showbackground": true,
            "ticks": "",
            "zerolinecolor": "#EBF0F8"
           },
           "zaxis": {
            "backgroundcolor": "white",
            "gridcolor": "#DFE8F3",
            "gridwidth": 2,
            "linecolor": "#EBF0F8",
            "showbackground": true,
            "ticks": "",
            "zerolinecolor": "#EBF0F8"
           }
          },
          "shapedefaults": {
           "line": {
            "color": "#2a3f5f"
           }
          },
          "ternary": {
           "aaxis": {
            "gridcolor": "#DFE8F3",
            "linecolor": "#A2B1C6",
            "ticks": ""
           },
           "baxis": {
            "gridcolor": "#DFE8F3",
            "linecolor": "#A2B1C6",
            "ticks": ""
           },
           "bgcolor": "white",
           "caxis": {
            "gridcolor": "#DFE8F3",
            "linecolor": "#A2B1C6",
            "ticks": ""
           }
          },
          "title": {
           "x": 0.05
          },
          "xaxis": {
           "automargin": true,
           "gridcolor": "#EBF0F8",
           "linecolor": "#EBF0F8",
           "ticks": "",
           "title": {
            "standoff": 15
           },
           "zerolinecolor": "#EBF0F8",
           "zerolinewidth": 2
          },
          "yaxis": {
           "automargin": true,
           "gridcolor": "#EBF0F8",
           "linecolor": "#EBF0F8",
           "ticks": "",
           "title": {
            "standoff": 15
           },
           "zerolinecolor": "#EBF0F8",
           "zerolinewidth": 2
          }
         }
        },
        "width": 1163,
        "xaxis": {
         "autorange": true,
         "visible": false
        },
        "yaxis": {
         "autorange": "reversed",
         "visible": false
        }
       }
      }
     },
     "metadata": {},
     "output_type": "display_data"
    }
   ],
   "source": [
    "import plotly\n",
    "import plotly.graph_objects as go\n",
    "from PIL import Image\n",
    "\n",
    "img = Image.open('pitch.png')\n",
    "fig = go.Figure()\n",
    "\n",
    "fig.add_trace(\n",
    "    go.Scatter(x=[0, 110, 112, 114, 115, 130],\n",
    "               y=[0, 65, 55, 49, 53, 90],\n",
    "                mode='markers',\n",
    "                marker=dict(size=15,\n",
    "                color='red'),\n",
    "               name='Salah'\n",
    "))\n",
    "\n",
    "# axis hide、yaxis reversed\n",
    "fig.update_layout(\n",
    "    autosize=False,\n",
    "    width=1163,\n",
    "    height=783,\n",
    "    xaxis=dict(visible=False,autorange=True),\n",
    "    yaxis=dict(visible=False,autorange='reversed')\n",
    ")\n",
    "\n",
    "# background image add\n",
    "fig.add_layout_image(\n",
    "    dict(source=img,\n",
    "         xref='x',\n",
    "         yref='y',\n",
    "         x=0,\n",
    "         y=0,\n",
    "         sizex=135,\n",
    "         sizey=95,\n",
    "         sizing='stretch',\n",
    "         opacity=0.9,\n",
    "         layer='below')\n",
    ")\n",
    "\n",
    "arrow = go.layout.Annotation(dict(\n",
    "                x= 88,\n",
    "                y= 59,\n",
    "                xref=\"x\", yref=\"y\",\n",
    "                text=\"\",\n",
    "                showarrow=True,\n",
    "                axref = \"x\", ayref='y',\n",
    "                ax= 70,\n",
    "                ay= 50,\n",
    "                arrowhead = 3,\n",
    "                arrowwidth=1.5,\n",
    "                arrowcolor='rgb(255,51,0)',)\n",
    "            )\n",
    "\n",
    "# Set templates\n",
    "fig.update_layout(template=\"plotly_white\")\n",
    "\n",
    "fig.show()"
   ]
  },
  {
   "cell_type": "code",
   "execution_count": null,
   "metadata": {},
   "outputs": [],
   "source": []
  },
  {
   "attachments": {},
   "cell_type": "markdown",
   "metadata": {},
   "source": [
    "# **Passing Network**"
   ]
  },
  {
   "cell_type": "code",
   "execution_count": 2,
   "metadata": {},
   "outputs": [],
   "source": [
    "def xT(df, data):\n",
    "  eventsPlayers_xT = df\n",
    "\n",
    "  #Import xT Grid, turn it into an array, and then get how many rows and columns it has\n",
    "  xT = pd.read_csv('C:/Users/menes/Documents/Data Hub/xT/xT_Grid.csv', header=None)\n",
    "  xT = np.array(xT)\n",
    "  xT_rows, xT_cols = xT.shape\n",
    "\n",
    "\n",
    "  if data == 'WyScout':\n",
    "    eventsPlayers_xT['x1_bin'] = pd.cut(eventsPlayers_xT['location.x'], bins=xT_cols, labels=False)\n",
    "    eventsPlayers_xT['y1_bin'] = pd.cut(eventsPlayers_xT['location.y'], bins=xT_rows, labels=False)\n",
    "    eventsPlayers_xT['x2_bin'] = pd.cut(eventsPlayers_xT['pass.endLocation.x'], bins=xT_cols, labels=False)\n",
    "    eventsPlayers_xT['y2_bin'] = pd.cut(eventsPlayers_xT['pass.endLocation.y'], bins=xT_rows, labels=False)\n",
    "\n",
    "    eventsPlayers_xT = eventsPlayers_xT[['player.name', 'team.name', 'minute', 'second', 'location.x', 'location.y', 'type.primary', 'type.secondary', 'pass.endLocation.x', 'pass.endLocation.y', 'x1_bin', 'y1_bin', 'x2_bin', 'y2_bin']]\n",
    "\n",
    "    eventsPlayers_xT['start_zone_value'] = eventsPlayers_xT[['x1_bin', 'y1_bin']].apply(lambda x: xT[x[1]][x[0]], axis=1)\n",
    "    eventsPlayers_xT['end_zone_value'] = eventsPlayers_xT[['x2_bin', 'y2_bin']].apply(lambda x: xT[x[1]][x[0]], axis=1)\n",
    "\n",
    "    eventsPlayers_xT['xT'] = round(eventsPlayers_xT['end_zone_value'] - eventsPlayers_xT['start_zone_value'], 2)\n",
    "\n",
    "    eventsPlayers_xT.drop(eventsPlayers_xT.index[0], axis=0, inplace=True)\n",
    "\n",
    "    eventsPlayers_xT.reset_index(inplace=True)\n",
    "\n",
    "    eventsPlayers_xT.drop(['index'], axis=1, inplace=True)\n",
    "    \n",
    "  elif data == 'WhoScored':\n",
    "    eventsPlayers_xT['x1_bin'] = pd.cut(eventsPlayers_xT['x'], bins=xT_cols, labels=False)\n",
    "    eventsPlayers_xT['y1_bin'] = pd.cut(eventsPlayers_xT['y'], bins=xT_rows, labels=False)\n",
    "    eventsPlayers_xT['x2_bin'] = pd.cut(eventsPlayers_xT['endX'], bins=xT_cols, labels=False)\n",
    "    eventsPlayers_xT['y2_bin'] = pd.cut(eventsPlayers_xT['endY'], bins=xT_rows, labels=False)\n",
    "\n",
    "    eventsPlayers_xT = eventsPlayers_xT[['id', 'Match_ID', 'matchTimestamp', 'outcomeTypedisplayName', 'name', 'team', 'minute', 'second', 'x', 'y', 'typedisplayName', 'isTouch', 'endX', 'endY', 'x1_bin', 'y1_bin', 'x2_bin', 'y2_bin']]\n",
    "\n",
    "    eventsPlayers_xT['start_zone_value'] = eventsPlayers_xT[['x1_bin', 'y1_bin']].apply(lambda x: xT[x[1]][x[0]], axis=1)\n",
    "    eventsPlayers_xT['end_zone_value'] = eventsPlayers_xT[['x2_bin', 'y2_bin']].apply(lambda x: xT[x[1]][x[0]], axis=1)\n",
    "\n",
    "    eventsPlayers_xT['xT'] = round(eventsPlayers_xT['end_zone_value'] - eventsPlayers_xT['start_zone_value'], 2)\n",
    "\n",
    "    eventsPlayers_xT.drop(eventsPlayers_xT.index[0], axis=0, inplace=True)\n",
    "\n",
    "    eventsPlayers_xT.reset_index(inplace=True)\n",
    "\n",
    "    eventsPlayers_xT.drop(['index'], axis=1, inplace=True)\n",
    "  \n",
    "  elif data == 'BePro':\n",
    "    eventsPlayers_xT['x1_bin'] = pd.cut(eventsPlayers_xT['x_start'], bins=xT_cols, labels=False)\n",
    "    eventsPlayers_xT['y1_bin'] = pd.cut(eventsPlayers_xT['y_start'], bins=xT_rows, labels=False)\n",
    "    eventsPlayers_xT['x2_bin'] = pd.cut(eventsPlayers_xT['x_end'], bins=xT_cols, labels=False)\n",
    "    eventsPlayers_xT['y2_bin'] = pd.cut(eventsPlayers_xT['y_end'], bins=xT_rows, labels=False)\n",
    "\n",
    "    eventsPlayers_xT = eventsPlayers_xT[['id', 'Match_ID', 'matchTimestamp', 'team_name', 'player_name', 'event_time', 'x_start', 'y_start', 'eventType', 'x_end', 'y_end', 'x1_bin', 'y1_bin', 'x2_bin', 'y2_bin']]\n",
    "\n",
    "    eventsPlayers_xT['start_zone_value'] = eventsPlayers_xT[['x1_bin', 'y1_bin']].apply(lambda x: xT[x[1]][x[0]], axis=1)\n",
    "    eventsPlayers_xT['end_zone_value'] = eventsPlayers_xT[['x2_bin', 'y2_bin']].apply(lambda x: xT[x[1]][x[0]], axis=1)\n",
    "\n",
    "    eventsPlayers_xT['xT'] = round(eventsPlayers_xT['end_zone_value'] - eventsPlayers_xT['start_zone_value'], 2)\n",
    "\n",
    "    eventsPlayers_xT.drop(eventsPlayers_xT.index[0], axis=0, inplace=True)\n",
    "\n",
    "    eventsPlayers_xT.reset_index(inplace=True)\n",
    "\n",
    "    eventsPlayers_xT.drop(['index'], axis=1, inplace=True)\n",
    "\n",
    "  return eventsPlayers_xT"
   ]
  },
  {
   "cell_type": "code",
   "execution_count": 3,
   "metadata": {},
   "outputs": [],
   "source": [
    "def passing_networkWhoScored(team, gameDay, afterSub=None):\n",
    "\n",
    "        if gameDay != 'All Season':\n",
    "            dataDF = df.loc[df.Match_ID == gameDay].reset_index(drop=True)\n",
    "            \n",
    "        elif gameDay == 'All Season':\n",
    "            dataDF = df.copy()\n",
    "\n",
    "        color = clubColors.get(team)\n",
    "\n",
    "        data = xT(dataDF, 'WhoScored')\n",
    "\n",
    "        ###########################################################################################################################\n",
    "        if gameDay != 'All Season':\n",
    "            network = data.loc[(data['team'] == team) & (data['Match_ID'] == gameDay)].reset_index(drop=True)\n",
    "            \n",
    "        elif gameDay == 'All Season':\n",
    "            network = data.loc[(data['team'] == team)].reset_index(drop=True)\n",
    "            \n",
    "        network = network.sort_values(['matchTimestamp'], ascending=True)\n",
    "\n",
    "        network[\"newsecond\"] = 60 * network[\"minute\"] + network[\"second\"]\n",
    "\n",
    "        #find time of the team's first substitution and filter the df to only passes before that\n",
    "        Subs = network.loc[(network['typedisplayName'] == \"SubstitutionOff\")]\n",
    "        SubTimes = Subs[\"newsecond\"]\n",
    "        SubOne = SubTimes.min()\n",
    "\n",
    "        passes = network.loc[(network['typedisplayName'] == \"Pass\") &\n",
    "                             (network['outcomeTypedisplayName'] == 'Successful')].reset_index(drop=True)\n",
    "\n",
    "\n",
    "        ###########################################################################################################################\n",
    "        if afterSub == None:\n",
    "          passes = passes.loc[passes['newsecond'] < SubOne].reset_index(drop=True)\n",
    "\n",
    "        elif afterSub != None:\n",
    "          passes = passes.loc[passes['newsecond'] > SubOne].reset_index(drop=True)\n",
    "\n",
    "        ###########################################################################################################################\n",
    "\n",
    "        passes['passer'] = passes['name']\n",
    "        passes['recipient'] = passes['passer'].shift(+1)\n",
    "        passes['passer'] = passes['passer'].astype(str)\n",
    "        passes['recipient'] = passes['recipient'].astype(str)\n",
    "\n",
    "        #passes = passes.loc[passes['recipient'] != 'nan']\n",
    "\n",
    "        ###########################################################################################################################\n",
    "\n",
    "        avg = passes.groupby('passer').agg({'x':['mean'], 'y':['mean', 'count']})\n",
    "        avg.columns = ['x_avg', 'y_avg', 'count']\n",
    "\n",
    "        player_pass_count = passes.groupby(\"passer\").size().to_frame(\"num_passes\")\n",
    "        player_pass_value = passes.groupby(\"passer\")['xT'].sum().to_frame(\"pass_value\")\n",
    "\n",
    "        passes[\"pair_key\"] = passes.apply(lambda x: \"_\".join(sorted([x[\"passer\"], x[\"recipient\"]])), axis=1)\n",
    "        pair_pass_count = passes.groupby(\"pair_key\").size().to_frame(\"num_passes\")\n",
    "        pair_pass_value = passes.groupby(\"pair_key\")['xT'].sum().to_frame(\"pass_value\")\n",
    "\n",
    "        ###########################################################################################################################\n",
    "\n",
    "        btw = passes.groupby(['passer', 'recipient']).id.count().reset_index()\n",
    "        btw.rename({'id':'pass_count'}, axis='columns', inplace=True)\n",
    "\n",
    "        merg1 = btw.merge(avg, left_on='passer', right_index=True)\n",
    "        pass_btw = merg1.merge(avg, left_on='recipient', right_index=True, suffixes=['', '_end'])\n",
    "\n",
    "        pass_btw = pass_btw.loc[pass_btw['pass_count'] > 5]\n",
    "\n",
    "        ##################################################################################################################################################################\n",
    "\n",
    "        fig, ax = plt.subplots(figsize=(6,4))\n",
    "\n",
    "        pitch = VerticalPitch(pitch_type='opta',\n",
    "                              pitch_color='#E8E8E8', line_color='#181818',\n",
    "                              line_zorder=3, linewidth=0.5, spot_scale=0.00)\n",
    "\n",
    "        pitch.draw(ax=ax)\n",
    "\n",
    "        fig.set_facecolor('#E8E8E8')\n",
    "\n",
    "        pearl_earring_cmap = LinearSegmentedColormap.from_list(\"Pearl Earring - 10 colors\",\n",
    "                                                                ['#e8e8e8', color[0]], N=10)\n",
    "\n",
    "        bs = pitch.bin_statistic(passes['endX'], passes['endY'], bins=(6, 3))\n",
    "\n",
    "        pitch.heatmap(bs, edgecolors='#e8e8e8', ax=ax, cmap=pearl_earring_cmap, alpha=0.5)\n",
    "\n",
    "        fig.set_facecolor('#E8E8E8')\n",
    "\n",
    "        max_player_count = None\n",
    "        max_player_value = None\n",
    "        max_pair_count = None\n",
    "        max_pair_value = None\n",
    "        \n",
    "        max_player_count = player_pass_count.num_passes.max() if max_player_count is None else max_player_count\n",
    "        max_player_value = player_pass_value.pass_value.max() if max_player_value is None else max_player_value\n",
    "        max_pair_count = pair_pass_count.num_passes.max() if max_pair_count is None else max_pair_count\n",
    "        max_pair_value = pair_pass_value.pass_value.max() if max_pair_value is None else max_pair_value\n",
    "\n",
    "        avg['x_avg'] = round(avg['x_avg'], 2)\n",
    "        avg['y_avg'] = round(avg['y_avg'], 2)\n",
    "        pair_stats = pd.merge(pair_pass_count, pair_pass_value, left_index=True, right_index=True)\n",
    "\n",
    "        #std = mundial.loc[(mundial.isTouch ==True) & (mundial.team == 'Portugal')].reset_index(drop=True)\n",
    "        #std = std.loc[std['newsecond'] < SubOne]\n",
    "        #std = std.groupby('name').agg({'x':['std'], 'y':['mean']})\n",
    "        #std.columns = ['x_std', 'y_mean']\n",
    "\n",
    "        for pair_key, row in pair_stats.iterrows():\n",
    "            player1, player2 = pair_key.split(\"_\")\n",
    "            \n",
    "            player1_x = avg.loc[player1][\"x_avg\"]\n",
    "            player1_y = avg.loc[player1][\"y_avg\"]\n",
    "\n",
    "            player2_x = avg.loc[player2][\"x_avg\"]\n",
    "            player2_y = avg.loc[player2][\"y_avg\"]\n",
    "\n",
    "            num_passes = row[\"num_passes\"]\n",
    "            if num_passes > 3:\n",
    "                    num_passes = 3\n",
    "                    \n",
    "            pass_value = row[\"pass_value\"]\n",
    "\n",
    "            norm = Normalize(vmin=0, vmax=max_pair_value)\n",
    "            edge_cmap = LinearSegmentedColormap.from_list(\"Pearl Earring - 10 colors\",\n",
    "                                                                ['#181818', color[0]], N=10)\n",
    "            edge_color = edge_cmap(norm(pass_value))\n",
    "\n",
    "            ax.plot([player1_y, player2_y], [player1_x, player2_x],\n",
    "                    'w-', linestyle='-', alpha=1, lw=num_passes, zorder=2, color=edge_color)\n",
    "\n",
    "            #playerx_std = std.loc[player1][\"x_std\"]\n",
    "            #playery_mean = std.loc[player1][\"y_mean\"]\n",
    "\n",
    "            #ax.scatter(playerx_std, playery_mean, s=2, c=edge_color, marker = 'v')\n",
    "\n",
    "        #plot arrows\n",
    "        #def pass_line_template(ax, x, y, end_x, end_y, lw):\n",
    "        #        ax.annotate('', xy=(end_y, end_x), xytext=(y, x), zorder=2,\n",
    "        #        arrowprops=dict(arrowstyle='-|>', linewidth=lw, color='#181818', alpha=.85))\n",
    "\n",
    "        # PLOT LINES        \n",
    "        #def pass_line_template(ax, x, y, end_x, end_y, line_color):\n",
    "        #        pitch.lines(x, y, end_x, end_y, lw=3, transparent=True, comet=True, cmap=line_color, ax=ax)\n",
    "\n",
    "        #def pass_line_template_shrink(ax, x, y, end_x, end_y, lw, dist_delta=1):\n",
    "        #        dist = math.hypot(end_x - x, end_y - y)\n",
    "        #        angle = math.atan2(end_y-y, end_x-x)\n",
    "        #        upd_x = x + (dist - dist_delta) * math.cos(angle)\n",
    "        #        upd_y = y + (dist - dist_delta) * math.sin(angle)\n",
    "        #        pass_line_template(ax, x, y, upd_x, upd_y, lw)\n",
    "                \n",
    "        \n",
    "        #for index, row in pass_btw.iterrows():\n",
    "        #        pass_line_template_shrink(ax, row['x_avg'], row['y_avg'], row['x_avg_end'], row['y_avg_end'], row['count'] * 0.03)\n",
    "\n",
    "        #plot nodes\n",
    "        pearl_earring_cmap = LinearSegmentedColormap.from_list(\"Pearl Earring - 10 colors\",\n",
    "                                                                ['#181818', color[0]], N=10)\n",
    "        cycles = 1\n",
    "        from matplotlib.cm import ScalarMappable\n",
    "        from mpl_toolkits.axes_grid1.inset_locator import inset_axes\n",
    "        #axins = inset_axes(ax,\n",
    "        #            width=\"100%\",  \n",
    "        #            height=\"5%\",\n",
    "        #            loc='lower center',\n",
    "        #            borderpad=-5\n",
    "        #           )                                                        \n",
    "        plt.colorbar(ScalarMappable(cmap=pearl_earring_cmap), label='xT', orientation=\"horizontal\", shrink=0.3, pad=0.)\n",
    "\n",
    "######################################################################################################################################################\n",
    "######################################################################################################################################################\n",
    "######################################################################################################################################################\n",
    "        if gameDay != 'All Season':\n",
    "            network = data.loc[(data['team'] == team) & (data['Match_ID'] == gameDay)].reset_index(drop=True)\n",
    "            \n",
    "        elif gameDay == 'All Season':\n",
    "            network = data.loc[(data['team'] == team)].reset_index(drop=True)\n",
    "            \n",
    "        network = network.sort_values(['matchTimestamp'], ascending=True)\n",
    "\n",
    "        network[\"newsecond\"] = 60 * network[\"minute\"] + network[\"second\"]\n",
    "\n",
    "        #find time of the team's first substitution and filter the df to only passes before that\n",
    "        Subs = network.loc[(network['typedisplayName']==\"SubstitutionOff\")]\n",
    "        SubTimes = Subs[\"newsecond\"]\n",
    "        SubOne = SubTimes.min()\n",
    "\n",
    "        passes = network.loc[(network['typedisplayName'] == \"Pass\") &\n",
    "                             (network['outcomeTypedisplayName'] == 'Successful')].reset_index(drop=True)\n",
    "\n",
    "        ###########################################################################################################################\n",
    "        if afterSub == None:\n",
    "          passes = passes.loc[passes['newsecond'] < SubOne].reset_index(drop=True)\n",
    "\n",
    "        elif afterSub != None:\n",
    "          passes = passes.loc[passes['newsecond'] > SubOne].reset_index(drop=True)\n",
    "\n",
    "        ###########################################################################################################################\n",
    "\n",
    "        passes['passer'] = passes['name']\n",
    "        passes['recipient'] = passes['passer'].shift(+1)\n",
    "        passes['passer'] = passes['passer'].astype(str)\n",
    "        passes['recipient'] = passes['recipient'].astype(str)\n",
    "        \n",
    "        #passes = passes.loc[passes['recipient'] != 'nan']\n",
    "\n",
    "        ###########################################################################################################################\n",
    "\n",
    "        avg = passes.groupby('passer').agg({'x':['mean'], 'y':['mean', 'count']})\n",
    "        avg.columns = ['x_avg', 'y_avg', 'count']\n",
    "\n",
    "        ###########################################################################################################################\n",
    "\n",
    "        btw = passes.groupby(['passer', 'recipient']).id.count().reset_index()\n",
    "        btw.rename({'id':'pass_count'}, axis='columns', inplace=True)\n",
    "\n",
    "        merg1 = btw.merge(avg, left_on='passer', right_index=True)\n",
    "        pass_btw = merg1.merge(avg, left_on='recipient', right_index=True, suffixes=['', '_end'])\n",
    "\n",
    "        pass_btw = pass_btw.loc[pass_btw['pass_count'] > 5]\n",
    "\n",
    "        avg = pd.DataFrame(passes.groupby('passer').agg({'x':['mean'], 'y':['mean', 'count']})).reset_index()\n",
    "\n",
    "        avg.to_excel('avgWhoScoredmundial.xlsx')\n",
    "\n",
    "        avg = pd.read_excel('avgWhoScoredmundial.xlsx')\n",
    "\n",
    "        avg.drop(avg.index[0:2], inplace=True)\n",
    "\n",
    "        avg.reset_index(drop=True)\n",
    "\n",
    "        avg.rename({'Unnamed: 4':'count'}, axis=1, inplace=True)\n",
    "\n",
    "        avg.drop(['Unnamed: 0'], axis=1, inplace=True)\n",
    "\n",
    "        #Criação da lista de jogadores\n",
    "\n",
    "        test = xT(data, 'WhoScored')\n",
    "        \n",
    "        test = test.loc[test['team'] == team].reset_index(drop=True)\n",
    "        \n",
    "        players = test['name'].unique()\n",
    "\n",
    "\n",
    "        players_xT = []\n",
    "\n",
    "        #Ciclo For de atribuição dos valores a cada jogador\n",
    "        for player in players:\n",
    "                players_xT.append(test.loc[test['name'] == player, 'xT'].sum())\n",
    "        data = {\n",
    "        'passer' : players,\n",
    "        'xT' : players_xT\n",
    "        }\n",
    "\n",
    "        test = pd.DataFrame(data)\n",
    "\n",
    "        #test.drop(test.index[11], inplace=True)\n",
    "\n",
    "        avg = pd.merge(avg, test, on='passer')\n",
    "\n",
    "######################################################################################################################################################\n",
    "######################################################################################################################################################\n",
    "######################################################################################################################################################\n",
    "        pass_nodes = pitch.scatter(avg['x'], avg['y'], s=350,\n",
    "                                cmap=pearl_earring_cmap, edgecolors=\"#010101\", c=avg['xT'], linewidth=1.3, ax=ax, zorder=3)\n",
    "\n",
    "\n",
    "        #Uncomment these next two lines to get each node labeled with the player id. Check to see if anything looks off, and make note of each player if you're going to add labeles later like their numbers\n",
    "        for index, row in avg.iterrows():\n",
    "                pitch.annotate(row.passer, xy=(row['x'], row['y']), c='#E8E8E8', va='center', ha='center', size=3, fontweight='bold', ax=ax)\n",
    "\n",
    "\n",
    "        ##################################################################################################################################################################\n",
    "\n",
    "        homeTeam = dataDF.home_Team.unique()\n",
    "        homeTeam = homeTeam[0]\n",
    "\n",
    "        awayTeam = dataDF.away_Team.unique()\n",
    "        awayTeam = awayTeam[0]\n",
    "\n",
    "        homeName = homeTeam\n",
    "        color = [color[0], color[1]]\n",
    "\n",
    "        awayName = awayTeam\n",
    "        color2c = clubColors.get(awayTeam)\n",
    "        color2 = [color2c[0], color2c[1]]\n",
    "\n",
    "        ##################################################################################################################################################################\n",
    "\n",
    "        #Params for the text inside the <> this is a function to highlight text\n",
    "        highlight_textprops =\\\n",
    "                [{\"color\": color[0],\"fontweight\": 'bold'},\n",
    "                {\"color\": color2[0],\"fontweight\": 'bold'}]\n",
    "\n",
    "        fig_text(s = f'<{homeName}>' + ' ' + 'vs' + ' ' + f'<{awayName}>',\n",
    "                x = 0.52, y = 0.94,\n",
    "                color='#181818', fontweight='bold', ha='center',\n",
    "                highlight_textprops = highlight_textprops,\n",
    "                fontsize=18);\n",
    "\n",
    "        matchID = network.Match_ID.unique()\n",
    "        matchID = matchID[0]\n",
    "\n",
    "        fig_text(s = 'Passing Network' + ' ' + '|' + ' ' + 'MatchDay' + ' ' + str(matchID) + '| World Cup Catar 2022 | @menesesp20',\n",
    "                x = 0.52, y = 0.91,\n",
    "                color='#181818', fontweight='bold', ha='center',\n",
    "                fontsize=5);\n",
    "\n",
    "        fig_text(s = 'The color of the nodes is based on xT value',\n",
    "                 x = 0.44, y = 0.875,\n",
    "                 color='#181818', fontweight='bold', ha='center',\n",
    "                 fontsize=5);\n",
    "\n",
    "        # Club Logo\n",
    "        fig = add_image(image='Images/Clubs/' + 'Mundial' + '/' + team + '.png', fig=fig, left=0.383, bottom=0.898, width=0.04, height=0.05)"
   ]
  },
  {
   "cell_type": "code",
   "execution_count": 17,
   "metadata": {},
   "outputs": [
    {
     "ename": "KeyError",
     "evalue": "'None'",
     "output_type": "error",
     "traceback": [
      "\u001b[1;31m---------------------------------------------------------------------------\u001b[0m",
      "\u001b[1;31mKeyError\u001b[0m                                  Traceback (most recent call last)",
      "File \u001b[1;32m~\\AppData\\Roaming\\Python\\Python310\\site-packages\\pandas\\core\\indexes\\base.py:3803\u001b[0m, in \u001b[0;36mIndex.get_loc\u001b[1;34m(self, key, method, tolerance)\u001b[0m\n\u001b[0;32m   3802\u001b[0m \u001b[39mtry\u001b[39;00m:\n\u001b[1;32m-> 3803\u001b[0m     \u001b[39mreturn\u001b[39;00m \u001b[39mself\u001b[39;49m\u001b[39m.\u001b[39;49m_engine\u001b[39m.\u001b[39;49mget_loc(casted_key)\n\u001b[0;32m   3804\u001b[0m \u001b[39mexcept\u001b[39;00m \u001b[39mKeyError\u001b[39;00m \u001b[39mas\u001b[39;00m err:\n",
      "File \u001b[1;32m~\\AppData\\Roaming\\Python\\Python310\\site-packages\\pandas\\_libs\\index.pyx:138\u001b[0m, in \u001b[0;36mpandas._libs.index.IndexEngine.get_loc\u001b[1;34m()\u001b[0m\n",
      "File \u001b[1;32m~\\AppData\\Roaming\\Python\\Python310\\site-packages\\pandas\\_libs\\index.pyx:165\u001b[0m, in \u001b[0;36mpandas._libs.index.IndexEngine.get_loc\u001b[1;34m()\u001b[0m\n",
      "File \u001b[1;32mpandas\\_libs\\hashtable_class_helper.pxi:5745\u001b[0m, in \u001b[0;36mpandas._libs.hashtable.PyObjectHashTable.get_item\u001b[1;34m()\u001b[0m\n",
      "File \u001b[1;32mpandas\\_libs\\hashtable_class_helper.pxi:5753\u001b[0m, in \u001b[0;36mpandas._libs.hashtable.PyObjectHashTable.get_item\u001b[1;34m()\u001b[0m\n",
      "\u001b[1;31mKeyError\u001b[0m: 'None'",
      "\nThe above exception was the direct cause of the following exception:\n",
      "\u001b[1;31mKeyError\u001b[0m                                  Traceback (most recent call last)",
      "\u001b[1;32mc:\\Users\\menes\\Documents\\Dash\\test.ipynb Cell 4\u001b[0m in \u001b[0;36m<cell line: 1>\u001b[1;34m()\u001b[0m\n\u001b[1;32m----> <a href='vscode-notebook-cell:/c%3A/Users/menes/Documents/Dash/test.ipynb#W4sZmlsZQ%3D%3D?line=0'>1</a>\u001b[0m passing_networkWhoScored(\u001b[39m'\u001b[39;49m\u001b[39mPortugal\u001b[39;49m\u001b[39m'\u001b[39;49m, \u001b[39m13\u001b[39;49m)\n",
      "\u001b[1;32mc:\\Users\\menes\\Documents\\Dash\\test.ipynb Cell 4\u001b[0m in \u001b[0;36mpassing_networkWhoScored\u001b[1;34m(team, gameDay, afterSub)\u001b[0m\n\u001b[0;32m    <a href='vscode-notebook-cell:/c%3A/Users/menes/Documents/Dash/test.ipynb#W4sZmlsZQ%3D%3D?line=110'>111</a>\u001b[0m \u001b[39mfor\u001b[39;00m pair_key, row \u001b[39min\u001b[39;00m pair_stats\u001b[39m.\u001b[39miterrows():\n\u001b[0;32m    <a href='vscode-notebook-cell:/c%3A/Users/menes/Documents/Dash/test.ipynb#W4sZmlsZQ%3D%3D?line=111'>112</a>\u001b[0m     player1, player2 \u001b[39m=\u001b[39m pair_key\u001b[39m.\u001b[39msplit(\u001b[39m\"\u001b[39m\u001b[39m_\u001b[39m\u001b[39m\"\u001b[39m)\n\u001b[1;32m--> <a href='vscode-notebook-cell:/c%3A/Users/menes/Documents/Dash/test.ipynb#W4sZmlsZQ%3D%3D?line=113'>114</a>\u001b[0m     player1_x \u001b[39m=\u001b[39m avg\u001b[39m.\u001b[39;49mloc[player1][\u001b[39m\"\u001b[39m\u001b[39mx_avg\u001b[39m\u001b[39m\"\u001b[39m]\n\u001b[0;32m    <a href='vscode-notebook-cell:/c%3A/Users/menes/Documents/Dash/test.ipynb#W4sZmlsZQ%3D%3D?line=114'>115</a>\u001b[0m     player1_y \u001b[39m=\u001b[39m avg\u001b[39m.\u001b[39mloc[player1][\u001b[39m\"\u001b[39m\u001b[39my_avg\u001b[39m\u001b[39m\"\u001b[39m]\n\u001b[0;32m    <a href='vscode-notebook-cell:/c%3A/Users/menes/Documents/Dash/test.ipynb#W4sZmlsZQ%3D%3D?line=116'>117</a>\u001b[0m     player2_x \u001b[39m=\u001b[39m avg\u001b[39m.\u001b[39mloc[player2][\u001b[39m\"\u001b[39m\u001b[39mx_avg\u001b[39m\u001b[39m\"\u001b[39m]\n",
      "File \u001b[1;32m~\\AppData\\Roaming\\Python\\Python310\\site-packages\\pandas\\core\\indexing.py:1073\u001b[0m, in \u001b[0;36m_LocationIndexer.__getitem__\u001b[1;34m(self, key)\u001b[0m\n\u001b[0;32m   1070\u001b[0m axis \u001b[39m=\u001b[39m \u001b[39mself\u001b[39m\u001b[39m.\u001b[39maxis \u001b[39mor\u001b[39;00m \u001b[39m0\u001b[39m\n\u001b[0;32m   1072\u001b[0m maybe_callable \u001b[39m=\u001b[39m com\u001b[39m.\u001b[39mapply_if_callable(key, \u001b[39mself\u001b[39m\u001b[39m.\u001b[39mobj)\n\u001b[1;32m-> 1073\u001b[0m \u001b[39mreturn\u001b[39;00m \u001b[39mself\u001b[39;49m\u001b[39m.\u001b[39;49m_getitem_axis(maybe_callable, axis\u001b[39m=\u001b[39;49maxis)\n",
      "File \u001b[1;32m~\\AppData\\Roaming\\Python\\Python310\\site-packages\\pandas\\core\\indexing.py:1312\u001b[0m, in \u001b[0;36m_LocIndexer._getitem_axis\u001b[1;34m(self, key, axis)\u001b[0m\n\u001b[0;32m   1310\u001b[0m \u001b[39m# fall thru to straight lookup\u001b[39;00m\n\u001b[0;32m   1311\u001b[0m \u001b[39mself\u001b[39m\u001b[39m.\u001b[39m_validate_key(key, axis)\n\u001b[1;32m-> 1312\u001b[0m \u001b[39mreturn\u001b[39;00m \u001b[39mself\u001b[39;49m\u001b[39m.\u001b[39;49m_get_label(key, axis\u001b[39m=\u001b[39;49maxis)\n",
      "File \u001b[1;32m~\\AppData\\Roaming\\Python\\Python310\\site-packages\\pandas\\core\\indexing.py:1260\u001b[0m, in \u001b[0;36m_LocIndexer._get_label\u001b[1;34m(self, label, axis)\u001b[0m\n\u001b[0;32m   1258\u001b[0m \u001b[39mdef\u001b[39;00m \u001b[39m_get_label\u001b[39m(\u001b[39mself\u001b[39m, label, axis: \u001b[39mint\u001b[39m):\n\u001b[0;32m   1259\u001b[0m     \u001b[39m# GH#5567 this will fail if the label is not present in the axis.\u001b[39;00m\n\u001b[1;32m-> 1260\u001b[0m     \u001b[39mreturn\u001b[39;00m \u001b[39mself\u001b[39;49m\u001b[39m.\u001b[39;49mobj\u001b[39m.\u001b[39;49mxs(label, axis\u001b[39m=\u001b[39;49maxis)\n",
      "File \u001b[1;32m~\\AppData\\Roaming\\Python\\Python310\\site-packages\\pandas\\core\\generic.py:4056\u001b[0m, in \u001b[0;36mNDFrame.xs\u001b[1;34m(self, key, axis, level, drop_level)\u001b[0m\n\u001b[0;32m   4054\u001b[0m             new_index \u001b[39m=\u001b[39m index[loc]\n\u001b[0;32m   4055\u001b[0m \u001b[39melse\u001b[39;00m:\n\u001b[1;32m-> 4056\u001b[0m     loc \u001b[39m=\u001b[39m index\u001b[39m.\u001b[39;49mget_loc(key)\n\u001b[0;32m   4058\u001b[0m     \u001b[39mif\u001b[39;00m \u001b[39misinstance\u001b[39m(loc, np\u001b[39m.\u001b[39mndarray):\n\u001b[0;32m   4059\u001b[0m         \u001b[39mif\u001b[39;00m loc\u001b[39m.\u001b[39mdtype \u001b[39m==\u001b[39m np\u001b[39m.\u001b[39mbool_:\n",
      "File \u001b[1;32m~\\AppData\\Roaming\\Python\\Python310\\site-packages\\pandas\\core\\indexes\\base.py:3805\u001b[0m, in \u001b[0;36mIndex.get_loc\u001b[1;34m(self, key, method, tolerance)\u001b[0m\n\u001b[0;32m   3803\u001b[0m     \u001b[39mreturn\u001b[39;00m \u001b[39mself\u001b[39m\u001b[39m.\u001b[39m_engine\u001b[39m.\u001b[39mget_loc(casted_key)\n\u001b[0;32m   3804\u001b[0m \u001b[39mexcept\u001b[39;00m \u001b[39mKeyError\u001b[39;00m \u001b[39mas\u001b[39;00m err:\n\u001b[1;32m-> 3805\u001b[0m     \u001b[39mraise\u001b[39;00m \u001b[39mKeyError\u001b[39;00m(key) \u001b[39mfrom\u001b[39;00m \u001b[39merr\u001b[39;00m\n\u001b[0;32m   3806\u001b[0m \u001b[39mexcept\u001b[39;00m \u001b[39mTypeError\u001b[39;00m:\n\u001b[0;32m   3807\u001b[0m     \u001b[39m# If we have a listlike key, _check_indexing_error will raise\u001b[39;00m\n\u001b[0;32m   3808\u001b[0m     \u001b[39m#  InvalidIndexError. Otherwise we fall through and re-raise\u001b[39;00m\n\u001b[0;32m   3809\u001b[0m     \u001b[39m#  the TypeError.\u001b[39;00m\n\u001b[0;32m   3810\u001b[0m     \u001b[39mself\u001b[39m\u001b[39m.\u001b[39m_check_indexing_error(key)\n",
      "\u001b[1;31mKeyError\u001b[0m: 'None'"
     ]
    },
    {
     "data": {
      "image/png": "[encoded data removed]",
      "text/plain": [
       "<Figure size 432x288 with 1 Axes>"
      ]
     },
     "metadata": {},
     "output_type": "display_data"
    }
   ],
   "source": [
    "passing_networkWhoScored('Portugal', 13)"
   ]
  },
  {
   "attachments": {},
   "cell_type": "markdown",
   "metadata": {},
   "source": [
    "# **Field Tilt**"
   ]
  },
  {
   "cell_type": "code",
   "execution_count": 10,
   "metadata": {},
   "outputs": [],
   "source": [
    "def field_Tilt(club, gameDay):\n",
    "\n",
    "    if gameDay == 'All Season':\n",
    "        touch = df.loc[(df.team == club) & (df['typedisplayName'] == 'Pass') & (df['outcomeTypedisplayName'] == 'Successful') & (df['x'] >=75)].reset_index(drop=True)\n",
    "        \n",
    "    elif gameDay != 'All Season':\n",
    "        touch = df.loc[(df['Match_ID'] == gameDay) & (df['typedisplayName'] == 'Pass') & (df['isTouch'] == True) & (df['x'] >= 75)].reset_index(drop=True)\n",
    "\n",
    "    #############################################################################################################################################\n",
    "\n",
    "    home = touch['home_Team'].unique()\n",
    "    home = home[0]\n",
    "    color = clubColors.get(home)\n",
    "\n",
    "    away = touch['away_Team'].unique()\n",
    "    away = away[0]\n",
    "    color2 = clubColors.get(away)\n",
    "\n",
    "    home_Passes = touch.loc[(touch['isTouch'] == True) & (touch['team'] == home)]['typedisplayName'].count()\n",
    "    away_Passes = touch.loc[(touch['isTouch'] == True) & (touch['team'] == away)]['typedisplayName'].count()\n",
    "\n",
    "    passes_Total = touch.loc[(touch['isTouch'] == True)]['typedisplayName'].count()\n",
    "\n",
    "    home_Passes = int(home_Passes)\n",
    "    home_Passes = round((home_Passes / int(passes_Total)) * 100, 2)\n",
    "    \n",
    "    away_Passes = int(away_Passes)\n",
    "    away_Passes = round((away_Passes / int(passes_Total)) * 100, 2)\n",
    "\n",
    "    #############################################################################################################################################\n",
    "\n",
    "\n",
    "    fieldTilt_Home = touch.loc[touch['team'] == home]\n",
    "\n",
    "    fieldTilt_Home = round((len(fieldTilt_Home) / len(touch)) * 100, 2)\n",
    "\n",
    "    fieldTilt_Away = touch.loc[touch['team'] == away]\n",
    "\n",
    "    fieldTilt_Away = round((len(fieldTilt_Away) / len(touch)) * 100, 2)\n",
    "\n",
    "    #############################################################################################################################################\n",
    "\n",
    "    # Plotting the pitch\n",
    "\n",
    "    fig, ax = plt.subplots(figsize=(6,4))\n",
    "\n",
    "    pitch = Pitch(pitch_type='opta',\n",
    "                    pitch_color='#E8E8E8', line_color='#181818',\n",
    "                    line_zorder=3, linewidth=0.5, spot_scale=0.00)\n",
    "\n",
    "    pitch.draw(ax=ax)\n",
    "\n",
    "    fig.set_facecolor('#E8E8E8')\n",
    "\n",
    "    #############################################################################################################################################\n",
    "\n",
    "    ax.axvspan(75, 100, facecolor=color[0], alpha=0.68)\n",
    "\n",
    "    ax.axvline(75, c='#181818', ls='--', lw=2)\n",
    "\n",
    "\n",
    "    ax.axvspan(25, 0, facecolor='#ff0000', alpha=0.68)\n",
    "\n",
    "    ax.axvline(25, c='#181818', ls='--', lw=2)\n",
    "\n",
    "    #############################################################################################################################################\n",
    "\n",
    "    for i in range(len(touch)):\n",
    "        if touch['team'].values[i] == club:\n",
    "            ax.scatter(100 - touch['x'].values[i] , 100 - touch['y'].values[i] , s = 30, color=color[0], edgecolor='#181818', alpha=0.8, zorder=5)\n",
    "            \n",
    "        elif touch['team'].values[i] != club:\n",
    "            ax.scatter(touch['x'] , touch['y'] , s = 30, color=color2[0], edgecolor='#181818', alpha=0.8, zorder=5)\n",
    "\n",
    "    #############################################################################################################################################\n",
    "\n",
    "    #Params for the text inside the <> this is a function to highlight text\n",
    "    highlight_textprops =\\\n",
    "        [{\"color\": color[0],\"fontweight\": 'bold'},\n",
    "         {\"color\": color2[0],\"fontweight\": 'bold'}\n",
    "         ]\n",
    "\n",
    "    fig_text(s =f'<{home}>' + ' ' + 'vs' + ' ' + f'<{away}>',\n",
    "             x = 0.55, y = 0.99,\n",
    "             ha='center', va='center',\n",
    "             highlight_textprops = highlight_textprops, \n",
    "             color='#181818', fontweight='bold',\n",
    "             fontsize=14);\n",
    "    \n",
    "    fig_text(s =  'World Cup Catar 2022 | @menesesp20',\n",
    "             x = 0.53, y = 0.951,\n",
    "             color='#181818', fontweight='bold',\n",
    "             ha='center', va='center',\n",
    "             fontsize=5);\n",
    "\n",
    "    fig_text(s = str(fieldTilt_Home) + ' ',\n",
    "             x = 0.474, y = 0.225,\n",
    "             color=color[0], fontweight='bold',\n",
    "             ha='center', va='center',\n",
    "             fontsize=7)\n",
    "\n",
    "    fig_text(s = ' ' + '   ' + ' ',\n",
    "             x = 0.512, y = 0.225,\n",
    "             color=color2[0], fontweight='bold',\n",
    "             ha='center', va='center',\n",
    "             fontsize=7)\n",
    "    \n",
    "    fig_text(s = ' ' + str(fieldTilt_Away),\n",
    "             x = 0.55, y = 0.225,\n",
    "             color=color2[0], fontweight='bold',\n",
    "             ha='center', va='center',\n",
    "             fontsize=7)\n",
    "\n",
    "\n",
    "    if (home_Passes < 50) & (fieldTilt_Home > 50):\n",
    "        #Params for the text inside the <> this is a function to highlight text\n",
    "        highlight_textprops =\\\n",
    "            [{\"color\": color[0],\"fontweight\": 'bold'},\n",
    "            {\"color\": color[0],\"fontweight\": 'bold'},\n",
    "            {\"color\": color2[0],\"fontweight\": 'bold'}  + '\\n' ]\n",
    "\n",
    "        fig_text(s = 'Despite' + ' ' + f'<{home}>' + ' ' + 'had less possession' + ' ' + '(' + f'<{str(home_Passes)}%>' + ')' + '\\n' +\n",
    "                 'they had greater ease in penetrating' + '\\n' + 'the final third than' + ' ' +  f'<{away}>',\n",
    "                 highlight_textprops = highlight_textprops,\n",
    "                 x = 0.528, y = 0.87,\n",
    "                 color='#181818', fontweight='bold',\n",
    "                 ha='center', va='center',\n",
    "                 fontsize=6)\n",
    "\n",
    "    elif (away_Passes < 50) & (fieldTilt_Away > 50):\n",
    "        #Params for the text inside the <> this is a function to highlight text\n",
    "        highlight_textprops =\\\n",
    "            [{\"color\": color2[0],\"fontweight\": 'bold'},\n",
    "            {\"color\": color2[0],\"fontweight\": 'bold'},\n",
    "            {\"color\": color[0],\"fontweight\": 'bold'}]\n",
    "\n",
    "        fig_text(s = 'Despite' + ' ' + f'<{away}>' + ' ' + 'had less possession' + ' ' + '(' + f'<{str(away_Passes)}%>' + ')' + '\\n' +\n",
    "                 'they had greater ease in penetrating' + '\\n' + 'the final third than' + ' ' +  f'<{home}>',\n",
    "                 highlight_textprops = highlight_textprops,\n",
    "                 x = 0.528, y = 0.87,\n",
    "                 color='#181818', fontweight='bold',\n",
    "                 ha='center', va='center',\n",
    "                 fontsize=6)\n",
    "\n",
    "    elif (home_Passes > 50) & (fieldTilt_Home < 50):\n",
    "        #Params for the text inside the <> this is a function to highlight text\n",
    "        highlight_textprops =\\\n",
    "            [{\"color\": color[0],\"fontweight\": 'bold'},\n",
    "            {\"color\": color[0],\"fontweight\": 'bold'},\n",
    "            {\"color\": color2[0],\"fontweight\": 'bold'}]\n",
    "\n",
    "        fig_text(s = 'Despite' + ' ' + f'<{home}>' + ' ' + 'had more possession' + ' ' + '(' + f'<{str(home_Passes)}%>' + ')' + '\\n' +\n",
    "                 'they struggled to penetrate' + '\\n' + 'the last third than' + ' ' +  f'<{away}>',\n",
    "                 highlight_textprops = highlight_textprops,\n",
    "                 x = 0.528, y = 0.87,\n",
    "                 color='#181818', fontweight='bold',\n",
    "                 ha='center', va='center',\n",
    "                 fontsize=6)\n",
    "\n",
    "    elif (away_Passes > 50) & (fieldTilt_Away < 50):\n",
    "        #Params for the text inside the <> this is a function to highlight text\n",
    "        highlight_textprops =\\\n",
    "            [{\"color\": color2[0],\"fontweight\": 'bold'},\n",
    "            {\"color\": color2[0],\"fontweight\": 'bold'},\n",
    "            {\"color\": color[0],\"fontweight\": 'bold'}]\n",
    "\n",
    "        fig_text(s = 'Despite' + ' ' + f'<{away}>' + ' ' + 'had more possession' + ' ' + '(' + f'<{str(away_Passes)}%>' + ')' + '\\n' +\n",
    "                 'they struggled to penetrate' + '\\n' + 'the last third than' + ' ' +  f'<{home}>',\n",
    "                 highlight_textprops = highlight_textprops,\n",
    "                 x = 0.528, y = 0.87,\n",
    "                 color='#181818', fontweight='bold',\n",
    "                 ha='center', va='center',\n",
    "                 fontsize=6)\n",
    "\n",
    "    elif (fieldTilt_Home > fieldTilt_Away):\n",
    "        fig_text(s = f'<{home}>' + ' ' + 'dominated the game with greater dominance' + '\\n' + 'of the last third than their opponent' + ' ' + \n",
    "                    f'<{away}>.',\n",
    "                    highlight_textprops = highlight_textprops,\n",
    "                    x = 0.528, y = 0.87,\n",
    "                    color='#181818', fontweight='bold',\n",
    "                    ha='center', va='center',\n",
    "                    fontsize=5)\n",
    "\n",
    "    elif (fieldTilt_Home < fieldTilt_Away):\n",
    "        highlight_textprops =\\\n",
    "        [{\"color\": color2[0],\"fontweight\": 'bold'},\n",
    "        {\"color\": color[0],\"fontweight\": 'bold'}]\n",
    "        \n",
    "        fig_text(s = f'<{away}>' + ' ' + 'dominated the game with greater dominance' + '\\n' + 'of the last third than their opponent' + ' ' + \n",
    "                 f'<{home}>.',\n",
    "                 highlight_textprops = highlight_textprops,\n",
    "                 x = 0.528, y = 0.89,\n",
    "                 color='#181818', fontweight='bold',\n",
    "                 ha='center', va='center',\n",
    "                 fontsize=5)\n",
    "\n",
    "    #############################################################################################################################################\n",
    "    \n",
    "    # Club Logo\n",
    "    #fig = add_image(image='/content/drive/MyDrive/Data Hub - Drive/Code/Mundial' + '/' + club + '.png', fig=fig,\n",
    "    #                left=0.06, bottom=0.85, width=0.05, height=0.09)"
   ]
  },
  {
   "cell_type": "code",
   "execution_count": 11,
   "metadata": {},
   "outputs": [
    {
     "data": {
      "image/png": "[encoded data removed]",
      "text/plain": [
       "<Figure size 432x288 with 1 Axes>"
      ]
     },
     "metadata": {},
     "output_type": "display_data"
    }
   ],
   "source": [
    "field_Tilt('Portugal', 13)"
   ]
  },
  {
   "cell_type": "code",
   "execution_count": null,
   "metadata": {},
   "outputs": [],
   "source": []
  }
 ],
 "metadata": {
  "kernelspec": {
   "display_name": "Python 3.10.3 64-bit",
   "language": "python",
   "name": "python3"
  },
  "language_info": {
   "codemirror_mode": {
    "name": "ipython",
    "version": 3
   },
   "file_extension": ".py",
   "mimetype": "text/x-python",
   "name": "python",
   "nbconvert_exporter": "python",
   "pygments_lexer": "ipython3",
   "version": "3.10.3 (tags/v3.10.3:a342a49, Mar 16 2022, 13:07:40) [MSC v.1929 64 bit (AMD64)]"
  },
  "orig_nbformat": 4,
  "vscode": {
   "interpreter": {
    "hash": "26de051ba29f2982a8de78e945f0abaf191376122a1563185a90213a26c5da77"
   }
  }
 },
 "nbformat": 4,
 "nbformat_minor": 2
}
